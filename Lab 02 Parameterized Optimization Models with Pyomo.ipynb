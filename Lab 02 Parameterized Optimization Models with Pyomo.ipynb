{
 "cells": [
  {
   "cell_type": "markdown",
   "metadata": {},
   "source": [
    "**SA305 &#x25aa; Linear Programming &#x25aa; Spring 2021 &#x25aa; Uhan**"
   ]
  },
  {
   "cell_type": "markdown",
   "metadata": {},
   "source": [
    "# Lab 2. Parameterized Optimization Models with Pyomo"
   ]
  },
  {
   "cell_type": "markdown",
   "metadata": {},
   "source": [
    "⚠️ In order to complete this lab, you need to have Pyomo and GLPK installed on your computer."
   ]
  },
  {
   "cell_type": "markdown",
   "metadata": {},
   "source": [
    "## In this lab..."
   ]
  },
  {
   "cell_type": "markdown",
   "metadata": {},
   "source": [
    "- Lists and dictionaries\n",
    "\n",
    "\n",
    "- An example: the parameterized linear program for the Farmer Jones problem in Pyomo\n",
    "\n",
    "\n",
    "- Your assignment"
   ]
  },
  {
   "cell_type": "markdown",
   "metadata": {},
   "source": [
    "<hr style=\"border-top: 1px solid gray;\"/>"
   ]
  },
  {
   "cell_type": "markdown",
   "metadata": {},
   "source": [
    "## Lists"
   ]
  },
  {
   "cell_type": "markdown",
   "metadata": {},
   "source": [
    "- Before we begin, we need to learn a little more about Python's data structures.\n",
    "\n",
    "\n",
    "- A __list__ is a collection of items that are organized in a particular order.\n",
    "\n",
    "\n",
    "- You can think of a list as an array or vector.\n",
    "\n",
    "\n",
    "- For example, here is a list containing the first 5 square numbers:"
   ]
  },
  {
   "cell_type": "code",
   "execution_count": null,
   "metadata": {},
   "outputs": [],
   "source": []
  },
  {
   "cell_type": "markdown",
   "metadata": {},
   "source": [
    "- Here is another list containing the days of the week:"
   ]
  },
  {
   "cell_type": "code",
   "execution_count": null,
   "metadata": {},
   "outputs": [],
   "source": []
  },
  {
   "cell_type": "markdown",
   "metadata": {},
   "source": [
    "## Dictionaries"
   ]
  },
  {
   "cell_type": "markdown",
   "metadata": {},
   "source": [
    "- A __dictionary__ is another way to organize a collection of items.\n",
    "\n",
    "\n",
    "- A dictionary maps __keys__ to __values__.\n",
    "    - Just like a real-world dictionary maps _words_ to _definitions_.\n",
    "    \n",
    "    \n",
    "- For example, here is a dictionary that maps English words to their Spanish counterparts:"
   ]
  },
  {
   "cell_type": "code",
   "execution_count": null,
   "metadata": {},
   "outputs": [],
   "source": []
  },
  {
   "cell_type": "markdown",
   "metadata": {},
   "source": [
    "- We can split the definition of a dictionary across multiple lines: like with parentheses `( )`, Python will assume that a statement continues to the next line if it is contained within braces `{ }`, like this:"
   ]
  },
  {
   "cell_type": "code",
   "execution_count": null,
   "metadata": {},
   "outputs": [],
   "source": []
  },
  {
   "cell_type": "markdown",
   "metadata": {},
   "source": [
    "- We can look up a value in a dictionary like this:"
   ]
  },
  {
   "cell_type": "code",
   "execution_count": null,
   "metadata": {},
   "outputs": [],
   "source": []
  },
  {
   "cell_type": "markdown",
   "metadata": {},
   "source": [
    "- Dictionary keys can be multi-dimensional. For example:"
   ]
  },
  {
   "cell_type": "code",
   "execution_count": null,
   "metadata": {},
   "outputs": [],
   "source": []
  },
  {
   "cell_type": "markdown",
   "metadata": {},
   "source": [
    "- These multi-dimensional keys are known as __tuples__."
   ]
  },
  {
   "cell_type": "markdown",
   "metadata": {},
   "source": [
    "<hr style=\"border-top: 1px solid gray;\"/>"
   ]
  },
  {
   "cell_type": "markdown",
   "metadata": {},
   "source": [
    "## The Farmer Jones problem and parameterized model"
   ]
  },
  {
   "cell_type": "markdown",
   "metadata": {},
   "source": [
    "* Recall the Farmer Jones problem from Lessons 2 and 7:"
   ]
  },
  {
   "cell_type": "markdown",
   "metadata": {},
   "source": [
    "__Example (Rader Example 1.1, modified).__ Farmer Jones decides to supplement her income by baking and selling two types of cakes, chocolate and vanilla. Each chocolate cake sold gives a profit of \\\\$3, and the profit on each vanilla cake sold is \\\\$4. Each chocolate cake uses 4 eggs and 4 pounds of flour, while each vanilla cake uses 2 eggs and 6 pounds of flour. If Farmer Jones has only 32 eggs and 48 pounds of flour available, how many of each type of cake should Farmer Jones bake in order to maximize her profit? For now, assume all cakes baked are sold, and fractional cakes are OK."
   ]
  },
  {
   "cell_type": "markdown",
   "metadata": {},
   "source": [
    "- In Lesson 7, we came up with the following parameterized linear program for Farmer Jones's problem:"
   ]
  },
  {
   "cell_type": "markdown",
   "metadata": {},
   "source": [
    "__Sets.__\n",
    "\n",
    "\\begin{align*}\n",
    "    K & = \\text{set of cake types}\\\\\n",
    "    I & = \\text{set of ingredients used}\n",
    "\\end{align*}\n",
    "\n",
    "__Parameters.__\n",
    "\n",
    "\\begin{alignat*}{2}\n",
    "    p_k & = \\text{unit profit for type $k$ cakes} &\\quad& \\text{for } k \\in K\\\\\n",
    "    b_i & = \\text{units of ingredient $i$ available} &\\quad& \\text{for } i \\in I\\\\\n",
    "    a_{i,k} & = \\text{units of ingredient $i$ used in cake type $k$} &\\quad& \\text{for } i \\in I, k \\in K    \n",
    "\\end{alignat*}\n",
    "\n",
    "__Decision variables.__\n",
    "\n",
    "\\begin{equation*}\n",
    "    x_k = \\text{number of type $k$ cakes to bake} \\quad \\text{for } k \\in K\n",
    "\\end{equation*}\n",
    "\n",
    "__Objective function and constraints.__\n",
    "\n",
    "\\begin{alignat*}{2}\n",
    "\\text{maximize} \\quad & \\sum_{k \\in K} p_k x_k &\\qquad& \\text{(maximize profit)}\\\\\n",
    "\\text{subject to} \\quad & \\sum_{k \\in K} a_{i,k} x_k \\le b_i \\quad \\text{for } i \\in I &\\qquad& \\text{(ingredients available)}\\\\\n",
    "& x_k \\ge 0 \\quad \\text{for } k \\in K &\\qquad& \\text{(nonnegativity)}\n",
    "\\end{alignat*}"
   ]
  },
  {
   "cell_type": "markdown",
   "metadata": {},
   "source": [
    "- For this example, the sets and parameters above have the following concrete values:\n",
    "\n",
    "\\begin{align*}\n",
    "K & = \\{ \\text{chocolate}, \\text{vanilla} \\}\\\\\n",
    "I & = \\{ \\text{eggs}, \\text{flour} \\}\n",
    "\\end{align*}\n",
    "\n",
    "\\begin{align*}\n",
    "p_{\\text{chocolate}} & = 3 & a_{\\text{eggs}, \\text{chocolate}} & = 4 & a_{\\text{eggs}, \\text{vanilla}} & = 2\\\\\n",
    "p_{\\text{vanilla}} & = 4 & a_{\\text{flour}, \\text{chocolate}} & = 4 & a_{\\text{flour}, \\text{vanilla}} & = 6\\\\\n",
    "& & b_{\\text{eggs}} & = 32 & b_{\\text{flour}} & = 48\n",
    "\\end{align*}"
   ]
  },
  {
   "cell_type": "markdown",
   "metadata": {},
   "source": [
    "* We can construct and solve this model with Pyomo with the steps below."
   ]
  },
  {
   "cell_type": "markdown",
   "metadata": {},
   "source": [
    "### 1. Import Pyomo."
   ]
  },
  {
   "cell_type": "markdown",
   "metadata": {},
   "source": [
    "- We begin by importing the Pyomo library, just like in Lab 1:"
   ]
  },
  {
   "cell_type": "code",
   "execution_count": null,
   "metadata": {},
   "outputs": [],
   "source": [
    "import pyomo.environ as pyo"
   ]
  },
  {
   "cell_type": "markdown",
   "metadata": {},
   "source": [
    "### 2. Define lists and dictionaries that define concrete values for the sets and parameters."
   ]
  },
  {
   "cell_type": "markdown",
   "metadata": {},
   "source": [
    "- Before creating the Pyomo model, we define lists and dictionaries that define concrete values for the sets and parameters in our parameterized model."
   ]
  },
  {
   "cell_type": "code",
   "execution_count": null,
   "metadata": {},
   "outputs": [],
   "source": []
  },
  {
   "cell_type": "markdown",
   "metadata": {},
   "source": [
    "### 3. Initialize a concrete model."
   ]
  },
  {
   "cell_type": "markdown",
   "metadata": {},
   "source": [
    "- Next, we initialize a Pyomo concrete model in the variable `model`."
   ]
  },
  {
   "cell_type": "code",
   "execution_count": null,
   "metadata": {},
   "outputs": [],
   "source": []
  },
  {
   "cell_type": "markdown",
   "metadata": {},
   "source": [
    "### 4. Define and initialize the sets and parameters.\n",
    "\n",
    "- The model we want to construct has the following sets:\n",
    "\n",
    "\\begin{align*}\n",
    "    K & = \\text{set of cake types}\\\\\n",
    "    I & = \\text{set of ingredients used}\n",
    "\\end{align*}\n",
    "\n",
    "- We can add these sets to our model in Pyomo and initialize their values with the lists we created in Step 2 as follows:    "
   ]
  },
  {
   "cell_type": "code",
   "execution_count": null,
   "metadata": {},
   "outputs": [],
   "source": []
  },
  {
   "cell_type": "markdown",
   "metadata": {},
   "source": [
    "- We also want to add the following parameters to our model:\n",
    "\n",
    "\\begin{alignat*}{2}\n",
    "    p_k & = \\text{unit profit for type $k$ cakes} &\\quad& \\text{for } k \\in K\\\\\n",
    "    b_i & = \\text{units of ingredient $i$ available} &\\quad& \\text{for } i \\in I\\\\        \n",
    "    a_{i,k} & = \\text{units of ingredient $i$ used in cake type $k$} &\\quad& \\text{for } i \\in I, k \\in K\n",
    "\\end{alignat*}\n",
    "\n",
    "- We can add these parameters to our model in Pyomo and initialize their values with the dictionaries we created in Step 2 as follows:"
   ]
  },
  {
   "cell_type": "code",
   "execution_count": null,
   "metadata": {},
   "outputs": [],
   "source": []
  },
  {
   "cell_type": "markdown",
   "metadata": {},
   "source": [
    "- Note that the first arguments to `pyo.Param()` are the sets corresponding to the subscripts/indices of that parameter."
   ]
  },
  {
   "cell_type": "markdown",
   "metadata": {},
   "source": [
    "### 5. Define the decision variables and variable bounds."
   ]
  },
  {
   "cell_type": "markdown",
   "metadata": {},
   "source": [
    "* The model we want to construct in Pyomo has the following decision variables:\n",
    "\n",
    "\\begin{equation*}\n",
    "    x_k = \\text{number of type $k$ cakes to bake} \\quad \\text{for } k \\in K\n",
    "\\end{equation*}\n",
    "\n",
    "* The variable bounds are:\n",
    "\n",
    "\\begin{equation*}\n",
    "    x_k \\ge 0 \\quad \\text{for } k \\in K \\qquad \\text{(nonnegativity)}\n",
    "\\end{equation*}\n",
    "\n",
    "* We can add these to our model in Pyomo as follows:"
   ]
  },
  {
   "cell_type": "code",
   "execution_count": null,
   "metadata": {},
   "outputs": [],
   "source": []
  },
  {
   "cell_type": "markdown",
   "metadata": {},
   "source": [
    "- Like with `pyo.Param()`, the first arguments are the subscript/index sets for the decision variables.\n",
    "\n",
    "\n",
    "- As we saw in Lab 1, the keyword argument `domain=...` lets us specify the variable domain."
   ]
  },
  {
   "cell_type": "markdown",
   "metadata": {},
   "source": [
    "### 6. Define the objective function."
   ]
  },
  {
   "cell_type": "markdown",
   "metadata": {},
   "source": [
    "- The objective function we want to add to our model in Pyomo is:\n",
    "\n",
    "\\begin{equation*}\n",
    "\\text{maximize} \\quad  \\sum_{k \\in K} p_k x_k \\qquad \\text{(maximize profit)}\n",
    "\\end{equation*}"
   ]
  },
  {
   "cell_type": "markdown",
   "metadata": {},
   "source": [
    "- We can do so like this:"
   ]
  },
  {
   "cell_type": "code",
   "execution_count": null,
   "metadata": {},
   "outputs": [],
   "source": []
  },
  {
   "cell_type": "markdown",
   "metadata": {},
   "source": [
    "- 👋 Note that the sum\n",
    "    \\begin{equation*}\n",
    "        \\sum_{k \\in K} p_k x_k\n",
    "    \\end{equation*}\n",
    "\n",
    "    is written as\n",
    "    \n",
    "    ```python\n",
    "    sum(model.p[k] * model.x[k] for k in model.K)\n",
    "    ```\n",
    "    \n",
    "    in the `return` statement of the function `obj_rule()`."
   ]
  },
  {
   "cell_type": "markdown",
   "metadata": {},
   "source": [
    "### 7. Define the constraints."
   ]
  },
  {
   "cell_type": "markdown",
   "metadata": {},
   "source": [
    "- The ingredient availability constraints are:\n",
    "\n",
    "    \\begin{equation*}\n",
    "    \\sum_{k \\in K} a_{i,k} x_k \\le b_i \\quad \\text{for } i \\in I \\qquad \\text{(ingredients available)}\n",
    "    \\end{equation*}\n",
    "\n",
    "\n",
    "- We can add these constraints to our model in Pyomo as follows:"
   ]
  },
  {
   "cell_type": "code",
   "execution_count": null,
   "metadata": {},
   "outputs": [],
   "source": []
  },
  {
   "cell_type": "markdown",
   "metadata": {},
   "source": [
    "- 👋 Note that `ingredients_available_rule()` now has 2 arguments: \n",
    "    - the first argument is the model, and \n",
    "    - the second argument is the index corresponding to the for statement of these constraints\n",
    "    \n",
    "    \n",
    "- 👋 Also note that the first argument to `pyo.Constraint()` is the index corresponding to the for statement of these constraints"
   ]
  },
  {
   "cell_type": "markdown",
   "metadata": {},
   "source": [
    "### 8. Solve the model."
   ]
  },
  {
   "cell_type": "markdown",
   "metadata": {},
   "source": [
    "- This works the same way as before:"
   ]
  },
  {
   "cell_type": "code",
   "execution_count": null,
   "metadata": {},
   "outputs": [],
   "source": [
    "result = pyo.SolverFactory(\"glpk\").solve(model, tee=True)"
   ]
  },
  {
   "cell_type": "markdown",
   "metadata": {},
   "source": [
    "### 9. Determine the status."
   ]
  },
  {
   "cell_type": "markdown",
   "metadata": {},
   "source": [
    "- As before, we can directly access the status of the solving process like this:"
   ]
  },
  {
   "cell_type": "code",
   "execution_count": null,
   "metadata": {},
   "outputs": [],
   "source": []
  },
  {
   "cell_type": "markdown",
   "metadata": {},
   "source": [
    "### 10. Print the optimal solution and its value if one exists."
   ]
  },
  {
   "cell_type": "markdown",
   "metadata": {},
   "source": [
    "- Also as before, we can use an `if` statement to check if the solver terminated with an optimal solution, and print the optimal value.\n",
    "\n",
    "\n",
    "- Since our decision variables are defined for each element of a set, we can use a `for` loop to print the value of each decision variable:"
   ]
  },
  {
   "cell_type": "code",
   "execution_count": null,
   "metadata": {},
   "outputs": [],
   "source": []
  },
  {
   "cell_type": "markdown",
   "metadata": {},
   "source": [
    "### The value of parameterization 🤔"
   ]
  },
  {
   "cell_type": "markdown",
   "metadata": {},
   "source": [
    "- As we discussed in class, the parameterized optimization model is __valid for any problem of the same structure__.\n",
    "\n",
    "\n",
    "- If the cake types, ingredients, or recipes change, __all we need to do is change the lists and dictionaries we defined in Step 2__. All the other steps remain exactly the same!"
   ]
  },
  {
   "cell_type": "markdown",
   "metadata": {},
   "source": [
    "<hr style=\"border-top: 1px solid gray;\"/>"
   ]
  },
  {
   "cell_type": "markdown",
   "metadata": {},
   "source": [
    "## Your assignment"
   ]
  },
  {
   "cell_type": "markdown",
   "metadata": {},
   "source": [
    "Recall Exercise 2.13 from Rader (the Midwest Steel problem), assigned for homework. We can formulate this problem as a linear program as follows.\n",
    "\n",
    "__Sets.__\n",
    "\n",
    "\\begin{alignat*}{2}\n",
    "  R & = \\text{set of raw materials} = \\{ \\text{Alloy1, Alloy2, Alloy3, Scrap1, Scrap2} \\}\\\\ \n",
    "  C & = \\text{set of characteristics} = \\{\\text{Carbon, Nickel, Chromium, TensileStrength}\\}\n",
    "\\end{alignat*}\n",
    "\n",
    "__Parameters.__\n",
    "\n",
    "\\begin{alignat*}{2}\n",
    "  c_i & = \\text{cost of raw material $i$} && \\text{for } i \\in R\\\\\n",
    "  a_i & = \\text{amount of raw material $i$ available} && \\text{for } i \\in R\\\\\n",
    "  h_{ij} & = \\text{value of characteristic $j$ in raw material $i$} &\\quad& \\text{for } i \\in R, j \\in C\\\\\n",
    "  \\ell_j & = \\text{lower bound for characteristic $j$} && \\text{for } j \\in C\\\\\n",
    "  u_j & = \\text{upper bound for characteristic $j$} && \\text{for } j \\in C\n",
    "\\end{alignat*}\n",
    "\n",
    "__Decision variables.__\n",
    "\n",
    "\\begin{equation*}\n",
    "    x_i = \\text{tons of raw material $i$ used} \\quad \\text{for } i \\in R\n",
    "\\end{equation*}\n",
    "\n",
    "__Objective function and constraints.__\n",
    "\n",
    "\\begin{alignat*}{3}\n",
    "\\min \\quad & \\sum_{i \\in R} c_i x_i &\\quad& &\\quad& \\text{(total cost)}\\\\ \n",
    "\\text{s.t.} \\quad & \\sum_{i \\in R} x_i = 100 &\\quad&  &\\quad& \\text{(piece is 100 tons)}\\\\\n",
    "& \\ell_j \\sum_{i \\in R} x_i \\leq \\sum_{i \\in R} h_{ij} x_i \\leq u_j \\sum_{i \\in R} x_i &\\quad& \\text{for $j \\in C$} &\\quad& \\text{(characteristic requirements)}\\\\\n",
    "& 0 \\leq x_i \\leq a_i &\\quad& \\text{for $i \\in R$} &\\quad& \\text{(nonnegativity, availability of raw materials)}\n",
    "\\end{alignat*}"
   ]
  },
  {
   "cell_type": "markdown",
   "metadata": {},
   "source": [
    "The sets above have the following concrete values:\n",
    "\n",
    "\\begin{align*}\n",
    "R & = \\{ \\text{Alloy1, Alloy2, Alloy3, Scrap1, Scrap2} \\}\\\\ \n",
    "C & = \\{\\text{Carbon, Nickel, Chromium, TensileStrength}\\}\n",
    "\\end{align*}"
   ]
  },
  {
   "cell_type": "markdown",
   "metadata": {},
   "source": [
    "The parameters above have the following concrete values:\n",
    "\n",
    "| $i \\in R$ | $c_i$ | $a_i$ |\n",
    "| :- | -: | -: |\n",
    "| Alloy1 | 150 | 50 |\n",
    "| Alloy2 | 120 | 50 |\n",
    "| Alloy3 | 80 | 20 |\n",
    "| Scrap1 | 35 | 30 |\n",
    "| Scrap2 | 20 | 40 |\n",
    "\n",
    "| $j \\in C$ | $\\ell_j$ | $u_j$ |\n",
    "| :- | -: | -: |\n",
    "| Carbon | 0.020 | 0.030 |\n",
    "| Nickel | 0.000 | 0.040 | \n",
    "| Chromium | 0.013 | 0.027 |\n",
    "| TensileStrength | 50000 | 80000 |\n",
    "\n",
    "| $h_{ij}$ | Carbon | Nickel | Chromium | TensileStrength |\n",
    "| :- | -: | -: | -: | -: |\n",
    "| Alloy1 | 0.0175 | 0.020 | 0.035 | 60000 |\n",
    "| Alloy2 | 0.0245 | 0.030 | 0.008 | 40000 |\n",
    "| Alloy3 | 0.0280 | 0.040 | 0.012 | 90000 |\n",
    "| Scrap1 | 0.0310 | 0.045 | 0.039 | 120000 |\n",
    "| Scrap2 | 0.0350 | 0.055 | 0.028 | 70000 |"
   ]
  },
  {
   "cell_type": "markdown",
   "metadata": {},
   "source": [
    "Construct and solve this model in Pyomo by completing the tasks given below."
   ]
  },
  {
   "cell_type": "markdown",
   "metadata": {},
   "source": [
    "__1.__  Import the Pyomo library."
   ]
  },
  {
   "cell_type": "code",
   "execution_count": null,
   "metadata": {},
   "outputs": [],
   "source": []
  },
  {
   "cell_type": "markdown",
   "metadata": {},
   "source": [
    "__2a.__ Define lists `R_list` and `C_list` that define concrete values for the sets $R$ and $C$, respectively."
   ]
  },
  {
   "cell_type": "code",
   "execution_count": null,
   "metadata": {},
   "outputs": [],
   "source": []
  },
  {
   "cell_type": "markdown",
   "metadata": {},
   "source": [
    "__2b.__ Define dictionaries `c_dict` and `a_dict` that define concrete values for the parameters $c_i$ and $a_i$ for $i \\in R$, respectively."
   ]
  },
  {
   "cell_type": "code",
   "execution_count": null,
   "metadata": {},
   "outputs": [],
   "source": []
  },
  {
   "cell_type": "markdown",
   "metadata": {},
   "source": [
    "__2c.__ Define dictionaries `l_dict` and `u_dict` that define concrete values for the parameters $\\ell_j$ and $u_j$ for $j \\in C$, respectively."
   ]
  },
  {
   "cell_type": "code",
   "execution_count": null,
   "metadata": {},
   "outputs": [],
   "source": []
  },
  {
   "cell_type": "markdown",
   "metadata": {},
   "source": [
    "__2d.__ Define dictionary `h_dict` that defines concrete values for the parameters $h_{ij}$ for $i \\in R$ and $j \\in C$. Use multidimemsional (tuple) keys."
   ]
  },
  {
   "cell_type": "code",
   "execution_count": null,
   "metadata": {},
   "outputs": [],
   "source": []
  },
  {
   "cell_type": "markdown",
   "metadata": {},
   "source": [
    "__3.__ Initialize a concrete model named `model`."
   ]
  },
  {
   "cell_type": "code",
   "execution_count": null,
   "metadata": {},
   "outputs": [],
   "source": []
  },
  {
   "cell_type": "markdown",
   "metadata": {},
   "source": [
    "__4a.__ Define and initialize the sets $R$ and $C$ as `model.R` and `model.C`, respectively."
   ]
  },
  {
   "cell_type": "code",
   "execution_count": null,
   "metadata": {},
   "outputs": [],
   "source": []
  },
  {
   "cell_type": "markdown",
   "metadata": {},
   "source": [
    "__4b.__ Define and initialize the parameters $c_i$ and $a_i$ for $i \\in R$, $\\ell_j$ and $u_j$ for $j \\in C$, and $h_{ij}$ for $i \\in R$ and $j \\in C$ as `model.c`, `model.a`, `model.l`, `model.u`, and `model.h`, respectively."
   ]
  },
  {
   "cell_type": "code",
   "execution_count": null,
   "metadata": {},
   "outputs": [],
   "source": []
  },
  {
   "cell_type": "markdown",
   "metadata": {},
   "source": [
    "__5.__ Define the decision variables $x_i$ for $i \\in R$ as `model.x`.  Make sure you specify their nonnegativity. We'll tackle their upper bounds later as constraints."
   ]
  },
  {
   "cell_type": "code",
   "execution_count": null,
   "metadata": {},
   "outputs": [],
   "source": []
  },
  {
   "cell_type": "markdown",
   "metadata": {},
   "source": [
    "__6.__ Define the objective function as `model.obj`.  Make sure you specify the correct `sense`."
   ]
  },
  {
   "cell_type": "code",
   "execution_count": null,
   "metadata": {},
   "outputs": [],
   "source": []
  },
  {
   "cell_type": "markdown",
   "metadata": {},
   "source": [
    "__7a.__ Define the \"piece is 100 tons\" constraint as `model.piece`."
   ]
  },
  {
   "cell_type": "code",
   "execution_count": null,
   "metadata": {},
   "outputs": [],
   "source": []
  },
  {
   "cell_type": "markdown",
   "metadata": {},
   "source": [
    "⚠️ Next, in __7b__ and __7c__, we split the characteristic requirement constraints into two separate sets of inequality constraints."
   ]
  },
  {
   "cell_type": "markdown",
   "metadata": {},
   "source": [
    "__7b.__ Define the characteristic requirement lower bound constraints\n",
    "\n",
    "\\begin{equation*}\n",
    "\\ell_j \\sum_{i \\in R} x_i \\leq \\sum_{i \\in R} h_{ij} x_i \\quad \\text{for $j \\in C$}\n",
    "\\end{equation*}\n",
    "\n",
    "as `model.characteristic_lower`. "
   ]
  },
  {
   "cell_type": "code",
   "execution_count": null,
   "metadata": {},
   "outputs": [],
   "source": []
  },
  {
   "cell_type": "markdown",
   "metadata": {},
   "source": [
    "__7c.__ Define the characteristic requirement upper bound constraints\n",
    "\n",
    "\\begin{equation*}\n",
    "\\sum_{i \\in R} h_{ij} x_i \\leq u_j \\sum_{i \\in R} x_i \\quad \\text{for $j \\in C$}\n",
    "\\end{equation*}\n",
    "\n",
    "as `model.characteristic_upper`. "
   ]
  },
  {
   "cell_type": "code",
   "execution_count": null,
   "metadata": {},
   "outputs": [],
   "source": []
  },
  {
   "cell_type": "markdown",
   "metadata": {},
   "source": [
    "__7d.__ Define the availability constraints\n",
    "\n",
    "\\begin{equation*}\n",
    "x_i \\leq a_i \\quad \\text{for $i \\in R$}\n",
    "\\end{equation*}\n",
    "\n",
    "as `model.availability`. "
   ]
  },
  {
   "cell_type": "code",
   "execution_count": null,
   "metadata": {},
   "outputs": [],
   "source": []
  },
  {
   "cell_type": "markdown",
   "metadata": {},
   "source": [
    "__8.__ Solve the model and save the result as `result`."
   ]
  },
  {
   "cell_type": "code",
   "execution_count": null,
   "metadata": {},
   "outputs": [],
   "source": []
  },
  {
   "cell_type": "markdown",
   "metadata": {},
   "source": [
    "__9.__ Print the status of the solving process of the model."
   ]
  },
  {
   "cell_type": "code",
   "execution_count": null,
   "metadata": {},
   "outputs": [],
   "source": []
  },
  {
   "cell_type": "markdown",
   "metadata": {},
   "source": [
    "__10.__ If the solver terminated with an optimal solution, print the optimal solution and its value."
   ]
  },
  {
   "cell_type": "code",
   "execution_count": null,
   "metadata": {},
   "outputs": [],
   "source": []
  },
  {
   "cell_type": "markdown",
   "metadata": {},
   "source": [
    "<hr style=\"border-top: 1px solid gray;\"/>"
   ]
  },
  {
   "cell_type": "markdown",
   "metadata": {},
   "source": [
    "## When you're finished"
   ]
  },
  {
   "cell_type": "markdown",
   "metadata": {},
   "source": [
    "- Make sure your notebook runs from top to bottom with no errors. One way to accomplish this is to click on __Kernel &#8594; Restart & Run All__. This will restart Python, and run your notebook from top to bottom."
   ]
  },
  {
   "cell_type": "markdown",
   "metadata": {},
   "source": [
    "<hr style=\"border-top: 1px solid gray;\"/>"
   ]
  },
  {
   "cell_type": "markdown",
   "metadata": {},
   "source": [
    "## Grading"
   ]
  },
  {
   "cell_type": "markdown",
   "metadata": {},
   "source": [
    "| Problem | Weight |\n",
    "| - | - |\n",
    "| 1 | 0.5 |\n",
    "| 2a | 0.5 |\n",
    "| 2b | 0.5 | \n",
    "| 2c | 0.5 | \n",
    "| 2d | 0.5 |\n",
    "| 3 | 0.5 |\n",
    "| 4a | 0.5 |\n",
    "| 4b | 0.5 |\n",
    "| 5 | 1 |\n",
    "| 6 | 1 |\n",
    "| 7a | 1 |\n",
    "| 7b | 1 |\n",
    "| 7c | 1 | \n",
    "| 7d | 1 |\n",
    "| 8 | 0.5 |\n",
    "| 9 | 0.5 |\n",
    "| 10 | 1 |\n",
    "| __Total__ | __120 points__ |"
   ]
  }
 ],
 "metadata": {
  "kernelspec": {
   "display_name": "Python 3",
   "language": "python",
   "name": "python3"
  },
  "language_info": {
   "codemirror_mode": {
    "name": "ipython",
    "version": 3
   },
   "file_extension": ".py",
   "mimetype": "text/x-python",
   "name": "python",
   "nbconvert_exporter": "python",
   "pygments_lexer": "ipython3",
   "version": "3.7.6"
  }
 },
 "nbformat": 4,
 "nbformat_minor": 2
}
